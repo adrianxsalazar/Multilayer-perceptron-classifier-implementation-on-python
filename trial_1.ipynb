{
  "nbformat": 4,
  "nbformat_minor": 0,
  "metadata": {
    "colab": {
      "name": "Untitled1.ipynb",
      "version": "0.3.2",
      "provenance": []
    },
    "kernelspec": {
      "name": "python3",
      "display_name": "Python 3"
    }
  },
  "cells": [
    {
      "cell_type": "code",
      "metadata": {
        "id": "npfkbWsYzW1N",
        "colab_type": "code",
        "colab": {}
      },
      "source": [
        "#import the packages that we are using\n"
      ],
      "execution_count": 0,
      "outputs": []
    }
  ]
}